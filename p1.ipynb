{
 "cells": [
  {
   "cell_type": "code",
   "execution_count": 1,
   "metadata": {},
   "outputs": [],
   "source": [
    "import pandas as pd\n",
    "import numpy as np\n",
    "import matplotlib.pyplot as plt\n",
    "import statsmodels\n",
    "import statsmodels.api as sm\n",
    "\n",
    "import warnings\n",
    "warnings.filterwarnings('ignore')"
   ]
  },
  {
   "cell_type": "code",
   "execution_count": 2,
   "metadata": {},
   "outputs": [
    {
     "data": {
      "text/html": [
       "<div>\n",
       "<style scoped>\n",
       "    .dataframe tbody tr th:only-of-type {\n",
       "        vertical-align: middle;\n",
       "    }\n",
       "\n",
       "    .dataframe tbody tr th {\n",
       "        vertical-align: top;\n",
       "    }\n",
       "\n",
       "    .dataframe thead th {\n",
       "        text-align: right;\n",
       "    }\n",
       "</style>\n",
       "<table border=\"1\" class=\"dataframe\">\n",
       "  <thead>\n",
       "    <tr style=\"text-align: right;\">\n",
       "      <th></th>\n",
       "      <th>KO</th>\n",
       "    </tr>\n",
       "    <tr>\n",
       "      <th>Index</th>\n",
       "      <th></th>\n",
       "    </tr>\n",
       "  </thead>\n",
       "  <tbody>\n",
       "    <tr>\n",
       "      <th>2007-01-03</th>\n",
       "      <td>14.823176</td>\n",
       "    </tr>\n",
       "    <tr>\n",
       "      <th>2007-01-04</th>\n",
       "      <td>14.829278</td>\n",
       "    </tr>\n",
       "    <tr>\n",
       "      <th>2007-01-05</th>\n",
       "      <td>14.725530</td>\n",
       "    </tr>\n",
       "    <tr>\n",
       "      <th>2007-01-08</th>\n",
       "      <td>14.820124</td>\n",
       "    </tr>\n",
       "    <tr>\n",
       "      <th>2007-01-09</th>\n",
       "      <td>14.832333</td>\n",
       "    </tr>\n",
       "  </tbody>\n",
       "</table>\n",
       "</div>"
      ],
      "text/plain": [
       "                   KO\n",
       "Index                \n",
       "2007-01-03  14.823176\n",
       "2007-01-04  14.829278\n",
       "2007-01-05  14.725530\n",
       "2007-01-08  14.820124\n",
       "2007-01-09  14.832333"
      ]
     },
     "execution_count": 2,
     "metadata": {},
     "output_type": "execute_result"
    }
   ],
   "source": [
    "# Problem 1.\n",
    "# Consider the daily log return, in percentage, of Coca-Cola stock (KO) from January 3rd, 2007 to January 31st, 2018.\n",
    "\n",
    "dat = pd.read_csv('p1-data.csv', index_col='Index', parse_dates=True)\n",
    "dat.head()"
   ]
  },
  {
   "cell_type": "code",
   "execution_count": 3,
   "metadata": {},
   "outputs": [
    {
     "data": {
      "text/html": [
       "<div>\n",
       "<style scoped>\n",
       "    .dataframe tbody tr th:only-of-type {\n",
       "        vertical-align: middle;\n",
       "    }\n",
       "\n",
       "    .dataframe tbody tr th {\n",
       "        vertical-align: top;\n",
       "    }\n",
       "\n",
       "    .dataframe thead th {\n",
       "        text-align: right;\n",
       "    }\n",
       "</style>\n",
       "<table border=\"1\" class=\"dataframe\">\n",
       "  <thead>\n",
       "    <tr style=\"text-align: right;\">\n",
       "      <th></th>\n",
       "      <th>KO</th>\n",
       "    </tr>\n",
       "    <tr>\n",
       "      <th>Index</th>\n",
       "      <th></th>\n",
       "    </tr>\n",
       "  </thead>\n",
       "  <tbody>\n",
       "    <tr>\n",
       "      <th>2018-01-25</th>\n",
       "      <td>47.840000</td>\n",
       "    </tr>\n",
       "    <tr>\n",
       "      <th>2018-01-26</th>\n",
       "      <td>48.529999</td>\n",
       "    </tr>\n",
       "    <tr>\n",
       "      <th>2018-01-29</th>\n",
       "      <td>47.700001</td>\n",
       "    </tr>\n",
       "    <tr>\n",
       "      <th>2018-01-30</th>\n",
       "      <td>47.410000</td>\n",
       "    </tr>\n",
       "    <tr>\n",
       "      <th>2018-01-31</th>\n",
       "      <td>47.590000</td>\n",
       "    </tr>\n",
       "  </tbody>\n",
       "</table>\n",
       "</div>"
      ],
      "text/plain": [
       "                   KO\n",
       "Index                \n",
       "2018-01-25  47.840000\n",
       "2018-01-26  48.529999\n",
       "2018-01-29  47.700001\n",
       "2018-01-30  47.410000\n",
       "2018-01-31  47.590000"
      ]
     },
     "execution_count": 3,
     "metadata": {},
     "output_type": "execute_result"
    }
   ],
   "source": [
    "dat.tail()"
   ]
  },
  {
   "cell_type": "code",
   "execution_count": 4,
   "metadata": {},
   "outputs": [
    {
     "data": {
      "text/plain": [
       "2789"
      ]
     },
     "execution_count": 4,
     "metadata": {},
     "output_type": "execute_result"
    }
   ],
   "source": [
    "r = 100 * np.log(dat['KO']).diff()\n",
    "r.dropna(inplace=True, how='any')\n",
    "r.size\n",
    "# Let {r_t} be the percentage daily log returns."
   ]
  },
  {
   "cell_type": "code",
   "execution_count": 5,
   "metadata": {},
   "outputs": [
    {
     "data": {
      "image/png": "[encoded data removed]",
      "text/plain": [
       "<Figure size 432x288 with 1 Axes>"
      ]
     },
     "metadata": {
      "needs_background": "light"
     },
     "output_type": "display_data"
    }
   ],
   "source": [
    "# Problem 1a.\n",
    "# Are there any autocorrelation in {r_t}? Why?\n",
    "\n",
    "sm.graphics.tsa.plot_acf(r, lags=range(1,40))\n",
    "plt.xlabel('Lag')\n",
    "plt.ylabel('Acf')\n",
    "plt.show()"
   ]
  },
  {
   "cell_type": "code",
   "execution_count": 6,
   "metadata": {},
   "outputs": [],
   "source": [
    "res = sm.stats.acorr_ljungbox(r, lags=[10], return_df=True)\n",
    "df = res.index.values[0]\n",
    "X_squared, pvalue = res.loc[[df],'lb_stat':'lb_pvalue'].values[0]"
   ]
  },
  {
   "cell_type": "code",
   "execution_count": 7,
   "metadata": {},
   "outputs": [
    {
     "name": "stdout",
     "output_type": "stream",
     "text": [
      "\n",
      "        Box-Ljung test\n",
      "\n",
      "X-squared = 38.76,\n",
      "df = 10,\n",
      "p-value = 2.796e-05\n",
      "\n"
     ]
    }
   ],
   "source": [
    "result = \"\"\"\n",
    "        Box-Ljung test\n",
    "\n",
    "X-squared = {:.2f},\n",
    "df = {},\n",
    "p-value = {:.3e}\n",
    "\"\"\".format(X_squared, df, pvalue)\n",
    "\n",
    "print(result)"
   ]
  },
  {
   "cell_type": "code",
   "execution_count": 8,
   "metadata": {},
   "outputs": [],
   "source": [
    "# Problem 1b.\n",
    "# Fit an ARMA+GARCH model with normal residuals to {r_t}.\n",
    "# State the fitted model. Is the model adequate? why?\n",
    "\n",
    "\n",
    "import pmdarima as pm\n",
    "\n",
    "arima_fit = pm.auto_arima(r, max_p=20, max_q=20, D=2, information_criterion='bic')"
   ]
  },
  {
   "cell_type": "code",
   "execution_count": 9,
   "metadata": {},
   "outputs": [
    {
     "data": {
      "text/html": [
       "<table class=\"simpletable\">\n",
       "<caption>SARIMAX Results</caption>\n",
       "<tr>\n",
       "  <th>Dep. Variable:</th>           <td>y</td>        <th>  No. Observations:  </th>   <td>2789</td>   \n",
       "</tr>\n",
       "<tr>\n",
       "  <th>Model:</th>           <td>SARIMAX(0, 0, 1)</td> <th>  Log Likelihood     </th> <td>-4327.324</td>\n",
       "</tr>\n",
       "<tr>\n",
       "  <th>Date:</th>            <td>Sun, 23 Aug 2020</td> <th>  AIC                </th> <td>8658.649</td> \n",
       "</tr>\n",
       "<tr>\n",
       "  <th>Time:</th>                <td>22:47:24</td>     <th>  BIC                </th> <td>8670.516</td> \n",
       "</tr>\n",
       "<tr>\n",
       "  <th>Sample:</th>                  <td>0</td>        <th>  HQIC               </th> <td>8662.933</td> \n",
       "</tr>\n",
       "<tr>\n",
       "  <th></th>                      <td> - 2789</td>     <th>                     </th>     <td> </td>    \n",
       "</tr>\n",
       "<tr>\n",
       "  <th>Covariance Type:</th>        <td>opg</td>       <th>                     </th>     <td> </td>    \n",
       "</tr>\n",
       "</table>\n",
       "<table class=\"simpletable\">\n",
       "<tr>\n",
       "     <td></td>       <th>coef</th>     <th>std err</th>      <th>z</th>      <th>P>|z|</th>  <th>[0.025</th>    <th>0.975]</th>  \n",
       "</tr>\n",
       "<tr>\n",
       "  <th>ma.L1</th>  <td>   -0.0761</td> <td>    0.009</td> <td>   -8.701</td> <td> 0.000</td> <td>   -0.093</td> <td>   -0.059</td>\n",
       "</tr>\n",
       "<tr>\n",
       "  <th>sigma2</th> <td>    1.3038</td> <td>    0.014</td> <td>   92.940</td> <td> 0.000</td> <td>    1.276</td> <td>    1.331</td>\n",
       "</tr>\n",
       "</table>\n",
       "<table class=\"simpletable\">\n",
       "<tr>\n",
       "  <th>Ljung-Box (Q):</th>          <td>76.26</td> <th>  Jarque-Bera (JB):  </th> <td>16727.90</td>\n",
       "</tr>\n",
       "<tr>\n",
       "  <th>Prob(Q):</th>                <td>0.00</td>  <th>  Prob(JB):          </th>   <td>0.00</td>  \n",
       "</tr>\n",
       "<tr>\n",
       "  <th>Heteroskedasticity (H):</th> <td>0.30</td>  <th>  Skew:              </th>   <td>0.35</td>  \n",
       "</tr>\n",
       "<tr>\n",
       "  <th>Prob(H) (two-sided):</th>    <td>0.00</td>  <th>  Kurtosis:          </th>   <td>14.98</td> \n",
       "</tr>\n",
       "</table><br/><br/>Warnings:<br/>[1] Covariance matrix calculated using the outer product of gradients (complex-step)."
      ],
      "text/plain": [
       "<class 'statsmodels.iolib.summary.Summary'>\n",
       "\"\"\"\n",
       "                               SARIMAX Results                                \n",
       "==============================================================================\n",
       "Dep. Variable:                      y   No. Observations:                 2789\n",
       "Model:               SARIMAX(0, 0, 1)   Log Likelihood               -4327.324\n",
       "Date:                Sun, 23 Aug 2020   AIC                           8658.649\n",
       "Time:                        22:47:24   BIC                           8670.516\n",
       "Sample:                             0   HQIC                          8662.933\n",
       "                               - 2789                                         \n",
       "Covariance Type:                  opg                                         \n",
       "==============================================================================\n",
       "                 coef    std err          z      P>|z|      [0.025      0.975]\n",
       "------------------------------------------------------------------------------\n",
       "ma.L1         -0.0761      0.009     -8.701      0.000      -0.093      -0.059\n",
       "sigma2         1.3038      0.014     92.940      0.000       1.276       1.331\n",
       "===================================================================================\n",
       "Ljung-Box (Q):                       76.26   Jarque-Bera (JB):             16727.90\n",
       "Prob(Q):                              0.00   Prob(JB):                         0.00\n",
       "Heteroskedasticity (H):               0.30   Skew:                             0.35\n",
       "Prob(H) (two-sided):                  0.00   Kurtosis:                        14.98\n",
       "===================================================================================\n",
       "\n",
       "Warnings:\n",
       "[1] Covariance matrix calculated using the outer product of gradients (complex-step).\n",
       "\"\"\""
      ]
     },
     "execution_count": 9,
     "metadata": {},
     "output_type": "execute_result"
    }
   ],
   "source": [
    "arima_fit.summary()"
   ]
  },
  {
   "cell_type": "code",
   "execution_count": 21,
   "metadata": {},
   "outputs": [
    {
     "data": {
      "image/png": "[encoded data removed]",
      "text/plain": [
       "<Figure size 432x288 with 1 Axes>"
      ]
     },
     "metadata": {
      "needs_background": "light"
     },
     "output_type": "display_data"
    }
   ],
   "source": [
    "from statsmodels.graphics.tsaplots import plot_pacf\n",
    "\n",
    "plot_pacf(arima_fit.resid() ** 2)\n",
    "plt.xlabel(\"Lag\")\n",
    "plt.ylabel(\"Partial ACF\")\n",
    "plt.title(\"Sample PACF of residuals^2\")\n",
    "plt.show()"
   ]
  },
  {
   "cell_type": "code",
   "execution_count": 108,
   "metadata": {},
   "outputs": [
    {
     "name": "stdout",
     "output_type": "stream",
     "text": [
      "Iteration:      5,   Func. Count:     37,   Neg. LLF: 3934.6857836334175\n",
      "Iteration:     10,   Func. Count:     64,   Neg. LLF: 3894.7244584396176\n",
      "Optimization terminated successfully    (Exit mode 0)\n",
      "            Current function value: 3894.7244584396176\n",
      "            Iterations: 11\n",
      "            Function evaluations: 68\n",
      "            Gradient evaluations: 11\n"
     ]
    },
    {
     "data": {
      "text/html": [
       "<table class=\"simpletable\">\n",
       "<caption>Constant Mean - GARCH Model Results</caption>\n",
       "<tr>\n",
       "  <th>Dep. Variable:</th>        <td>None</td>        <th>  R-squared:         </th>  <td>  -0.000</td> \n",
       "</tr>\n",
       "<tr>\n",
       "  <th>Mean Model:</th>       <td>Constant Mean</td>   <th>  Adj. R-squared:    </th>  <td>  -0.000</td> \n",
       "</tr>\n",
       "<tr>\n",
       "  <th>Vol Model:</th>            <td>GARCH</td>       <th>  Log-Likelihood:    </th> <td>  -3894.72</td>\n",
       "</tr>\n",
       "<tr>\n",
       "  <th>Distribution:</th>        <td>Normal</td>       <th>  AIC:               </th> <td>   7797.45</td>\n",
       "</tr>\n",
       "<tr>\n",
       "  <th>Method:</th>        <td>Maximum Likelihood</td> <th>  BIC:               </th> <td>   7821.18</td>\n",
       "</tr>\n",
       "<tr>\n",
       "  <th></th>                        <td></td>          <th>  No. Observations:  </th>    <td>2789</td>   \n",
       "</tr>\n",
       "<tr>\n",
       "  <th>Date:</th>           <td>Tue, Aug 25 2020</td>  <th>  Df Residuals:      </th>    <td>2785</td>   \n",
       "</tr>\n",
       "<tr>\n",
       "  <th>Time:</th>               <td>17:39:47</td>      <th>  Df Model:          </th>      <td>4</td>    \n",
       "</tr>\n",
       "</table>\n",
       "<table class=\"simpletable\">\n",
       "<caption>Mean Model</caption>\n",
       "<tr>\n",
       "   <td></td>     <th>coef</th>     <th>std err</th>      <th>t</th>       <th>P>|t|</th>      <th>95.0% Conf. Int.</th>   \n",
       "</tr>\n",
       "<tr>\n",
       "  <th>mu</th> <td>    0.0156</td> <td>1.719e-02</td> <td>    0.910</td> <td>    0.363</td> <td>[-1.804e-02,4.933e-02]</td>\n",
       "</tr>\n",
       "</table>\n",
       "<table class=\"simpletable\">\n",
       "<caption>Volatility Model</caption>\n",
       "<tr>\n",
       "      <td></td>        <th>coef</th>     <th>std err</th>      <th>t</th>       <th>P>|t|</th>      <th>95.0% Conf. Int.</th>   \n",
       "</tr>\n",
       "<tr>\n",
       "  <th>omega</th>    <td>    0.0328</td> <td>1.759e-02</td> <td>    1.862</td> <td>6.253e-02</td> <td>[-1.715e-03,6.725e-02]</td>\n",
       "</tr>\n",
       "<tr>\n",
       "  <th>alpha[1]</th> <td>    0.0905</td> <td>3.212e-02</td> <td>    2.817</td> <td>4.849e-03</td>   <td>[2.752e-02,  0.153]</td> \n",
       "</tr>\n",
       "<tr>\n",
       "  <th>beta[1]</th>  <td>    0.8820</td> <td>4.332e-02</td> <td>   20.360</td> <td>3.752e-92</td>    <td>[  0.797,  0.967]</td>  \n",
       "</tr>\n",
       "</table><br/><br/>Covariance estimator: robust"
      ],
      "text/plain": [
       "<class 'statsmodels.iolib.summary.Summary'>\n",
       "\"\"\"\n",
       "                     Constant Mean - GARCH Model Results                      \n",
       "==============================================================================\n",
       "Dep. Variable:                   None   R-squared:                      -0.000\n",
       "Mean Model:             Constant Mean   Adj. R-squared:                 -0.000\n",
       "Vol Model:                      GARCH   Log-Likelihood:               -3894.72\n",
       "Distribution:                  Normal   AIC:                           7797.45\n",
       "Method:            Maximum Likelihood   BIC:                           7821.18\n",
       "                                        No. Observations:                 2789\n",
       "Date:                Tue, Aug 25 2020   Df Residuals:                     2785\n",
       "Time:                        17:39:47   Df Model:                            4\n",
       "                                  Mean Model                                 \n",
       "=============================================================================\n",
       "                 coef    std err          t      P>|t|       95.0% Conf. Int.\n",
       "-----------------------------------------------------------------------------\n",
       "mu             0.0156  1.719e-02      0.910      0.363 [-1.804e-02,4.933e-02]\n",
       "                               Volatility Model                              \n",
       "=============================================================================\n",
       "                 coef    std err          t      P>|t|       95.0% Conf. Int.\n",
       "-----------------------------------------------------------------------------\n",
       "omega          0.0328  1.759e-02      1.862  6.253e-02 [-1.715e-03,6.725e-02]\n",
       "alpha[1]       0.0905  3.212e-02      2.817  4.849e-03    [2.752e-02,  0.153]\n",
       "beta[1]        0.8820  4.332e-02     20.360  3.752e-92      [  0.797,  0.967]\n",
       "=============================================================================\n",
       "\n",
       "Covariance estimator: robust\n",
       "\"\"\""
      ]
     },
     "execution_count": 108,
     "metadata": {},
     "output_type": "execute_result"
    }
   ],
   "source": [
    "from arch import arch_model\n",
    "from statsmodels.tsa.arima_model import ARIMA\n",
    "\n",
    "amf = ARIMA(r, order=(0, 0, 1)).fit()\n",
    "archm = arch_model(amf.resid, p=1, o=0, q=1).fit()\n",
    "archm.summary()"
   ]
  },
  {
   "cell_type": "code",
   "execution_count": 80,
   "metadata": {},
   "outputs": [
    {
     "data": {
      "image/png": "[encoded data removed]",
      "text/plain": [
       "<Figure size 432x288 with 2 Axes>"
      ]
     },
     "execution_count": 80,
     "metadata": {},
     "output_type": "execute_result"
    },
    {
     "data": {
      "image/png": "[encoded data removed]",
      "text/plain": [
       "<Figure size 432x288 with 2 Axes>"
      ]
     },
     "metadata": {
      "needs_background": "light"
     },
     "output_type": "display_data"
    }
   ],
   "source": [
    "archm.plot()"
   ]
  },
  {
   "cell_type": "code",
   "execution_count": 81,
   "metadata": {},
   "outputs": [
    {
     "name": "stdout",
     "output_type": "stream",
     "text": [
      "Iteration:      1,   Func. Count:      7,   Neg. LLF: 93079.7266423809\n",
      "Iteration:      2,   Func. Count:     17,   Neg. LLF: 46016.32329498032\n",
      "Iteration:      3,   Func. Count:     26,   Neg. LLF: 6680.919591907386\n",
      "Iteration:      4,   Func. Count:     35,   Neg. LLF: 9193.429567243085\n",
      "Iteration:      5,   Func. Count:     42,   Neg. LLF: 6204.7962065125585\n",
      "Iteration:      6,   Func. Count:     49,   Neg. LLF: 4017.297117531335\n",
      "Iteration:      7,   Func. Count:     56,   Neg. LLF: 3797.375583866704\n",
      "Iteration:      8,   Func. Count:     63,   Neg. LLF: 6263.333628931876\n",
      "Iteration:      9,   Func. Count:     70,   Neg. LLF: 3794.4654208472084\n",
      "Iteration:     10,   Func. Count:     77,   Neg. LLF: 3789.3486349604755\n",
      "Iteration:     11,   Func. Count:     84,   Neg. LLF: 3788.397580128997\n",
      "Iteration:     12,   Func. Count:     91,   Neg. LLF: 3788.384550987498\n",
      "Iteration:     13,   Func. Count:     98,   Neg. LLF: 3788.384323652083\n",
      "Iteration:     14,   Func. Count:    103,   Neg. LLF: 3788.3843236520956\n",
      "Optimization terminated successfully    (Exit mode 0)\n",
      "            Current function value: 3788.384323652083\n",
      "            Iterations: 14\n",
      "            Function evaluations: 103\n",
      "            Gradient evaluations: 14\n"
     ]
    },
    {
     "data": {
      "text/html": [
       "<table class=\"simpletable\">\n",
       "<caption>Constant Mean - GARCH Model Results</caption>\n",
       "<tr>\n",
       "  <th>Dep. Variable:</th>           <td>None</td>           <th>  R-squared:         </th>  <td>  -0.000</td> \n",
       "</tr>\n",
       "<tr>\n",
       "  <th>Mean Model:</th>          <td>Constant Mean</td>      <th>  Adj. R-squared:    </th>  <td>  -0.000</td> \n",
       "</tr>\n",
       "<tr>\n",
       "  <th>Vol Model:</th>               <td>GARCH</td>          <th>  Log-Likelihood:    </th> <td>  -3788.38</td>\n",
       "</tr>\n",
       "<tr>\n",
       "  <th>Distribution:</th>  <td>Standardized Student's t</td> <th>  AIC:               </th> <td>   7586.77</td>\n",
       "</tr>\n",
       "<tr>\n",
       "  <th>Method:</th>           <td>Maximum Likelihood</td>    <th>  BIC:               </th> <td>   7616.44</td>\n",
       "</tr>\n",
       "<tr>\n",
       "  <th></th>                           <td></td>             <th>  No. Observations:  </th>    <td>2789</td>   \n",
       "</tr>\n",
       "<tr>\n",
       "  <th>Date:</th>              <td>Tue, Aug 25 2020</td>     <th>  Df Residuals:      </th>    <td>2784</td>   \n",
       "</tr>\n",
       "<tr>\n",
       "  <th>Time:</th>                  <td>17:19:43</td>         <th>  Df Model:          </th>      <td>5</td>    \n",
       "</tr>\n",
       "</table>\n",
       "<table class=\"simpletable\">\n",
       "<caption>Mean Model</caption>\n",
       "<tr>\n",
       "   <td></td>     <th>coef</th>     <th>std err</th>      <th>t</th>       <th>P>|t|</th>      <th>95.0% Conf. Int.</th>   \n",
       "</tr>\n",
       "<tr>\n",
       "  <th>mu</th> <td>    0.0216</td> <td>1.519e-02</td> <td>    1.425</td> <td>    0.154</td> <td>[-8.119e-03,5.141e-02]</td>\n",
       "</tr>\n",
       "</table>\n",
       "<table class=\"simpletable\">\n",
       "<caption>Volatility Model</caption>\n",
       "<tr>\n",
       "      <td></td>        <th>coef</th>     <th>std err</th>      <th>t</th>        <th>P>|t|</th>      <th>95.0% Conf. Int.</th>   \n",
       "</tr>\n",
       "<tr>\n",
       "  <th>omega</th>    <td>    0.0149</td> <td>8.131e-03</td> <td>    1.838</td>  <td>6.608e-02</td> <td>[-9.926e-04,3.088e-02]</td>\n",
       "</tr>\n",
       "<tr>\n",
       "  <th>alpha[1]</th> <td>    0.0658</td> <td>2.089e-02</td> <td>    3.149</td>  <td>1.637e-03</td>   <td>[2.484e-02,  0.107]</td> \n",
       "</tr>\n",
       "<tr>\n",
       "  <th>beta[1]</th>  <td>    0.9243</td> <td>2.524e-02</td> <td>   36.626</td> <td>1.094e-293</td>    <td>[  0.875,  0.974]</td>  \n",
       "</tr>\n",
       "</table>\n",
       "<table class=\"simpletable\">\n",
       "<caption>Distribution</caption>\n",
       "<tr>\n",
       "   <td></td>     <th>coef</th>     <th>std err</th>      <th>t</th>       <th>P>|t|</th>   <th>95.0% Conf. Int.</th> \n",
       "</tr>\n",
       "<tr>\n",
       "  <th>nu</th> <td>    4.9727</td> <td>    0.459</td> <td>   10.827</td> <td>2.552e-27</td> <td>[  4.073,  5.873]</td>\n",
       "</tr>\n",
       "</table><br/><br/>Covariance estimator: robust"
      ],
      "text/plain": [
       "<class 'statsmodels.iolib.summary.Summary'>\n",
       "\"\"\"\n",
       "                        Constant Mean - GARCH Model Results                         \n",
       "====================================================================================\n",
       "Dep. Variable:                         None   R-squared:                      -0.000\n",
       "Mean Model:                   Constant Mean   Adj. R-squared:                 -0.000\n",
       "Vol Model:                            GARCH   Log-Likelihood:               -3788.38\n",
       "Distribution:      Standardized Student's t   AIC:                           7586.77\n",
       "Method:                  Maximum Likelihood   BIC:                           7616.44\n",
       "                                              No. Observations:                 2789\n",
       "Date:                      Tue, Aug 25 2020   Df Residuals:                     2784\n",
       "Time:                              17:19:43   Df Model:                            5\n",
       "                                  Mean Model                                 \n",
       "=============================================================================\n",
       "                 coef    std err          t      P>|t|       95.0% Conf. Int.\n",
       "-----------------------------------------------------------------------------\n",
       "mu             0.0216  1.519e-02      1.425      0.154 [-8.119e-03,5.141e-02]\n",
       "                               Volatility Model                              \n",
       "=============================================================================\n",
       "                 coef    std err          t      P>|t|       95.0% Conf. Int.\n",
       "-----------------------------------------------------------------------------\n",
       "omega          0.0149  8.131e-03      1.838  6.608e-02 [-9.926e-04,3.088e-02]\n",
       "alpha[1]       0.0658  2.089e-02      3.149  1.637e-03    [2.484e-02,  0.107]\n",
       "beta[1]        0.9243  2.524e-02     36.626 1.094e-293      [  0.875,  0.974]\n",
       "                              Distribution                              \n",
       "========================================================================\n",
       "                 coef    std err          t      P>|t|  95.0% Conf. Int.\n",
       "------------------------------------------------------------------------\n",
       "nu             4.9727      0.459     10.827  2.552e-27 [  4.073,  5.873]\n",
       "========================================================================\n",
       "\n",
       "Covariance estimator: robust\n",
       "\"\"\""
      ]
     },
     "execution_count": 81,
     "metadata": {},
     "output_type": "execute_result"
    }
   ],
   "source": [
    "# Problem 1c.\n",
    "# Repeat part (b), for a ARMA+GARCH model with student-t residuals\n",
    "\n",
    "amf_t = ARIMA(r, order=(0, 0, 1)).fit()\n",
    "archm_t = arch_model(amf.resid, p=1, o=0, q=1, dist='t').fit()\n",
    "archm_t.summary()"
   ]
  },
  {
   "cell_type": "code",
   "execution_count": 82,
   "metadata": {},
   "outputs": [
    {
     "data": {
      "image/png": "[encoded data removed]",
      "text/plain": [
       "<Figure size 432x288 with 2 Axes>"
      ]
     },
     "execution_count": 82,
     "metadata": {},
     "output_type": "execute_result"
    },
    {
     "data": {
      "image/png": "[encoded data removed]",
      "text/plain": [
       "<Figure size 432x288 with 2 Axes>"
      ]
     },
     "metadata": {
      "needs_background": "light"
     },
     "output_type": "display_data"
    }
   ],
   "source": [
    "archm_t.plot()"
   ]
  },
  {
   "cell_type": "code",
   "execution_count": 133,
   "metadata": {},
   "outputs": [
    {
     "data": {
      "text/html": [
       "<div>\n",
       "<style scoped>\n",
       "    .dataframe tbody tr th:only-of-type {\n",
       "        vertical-align: middle;\n",
       "    }\n",
       "\n",
       "    .dataframe tbody tr th {\n",
       "        vertical-align: top;\n",
       "    }\n",
       "\n",
       "    .dataframe thead th {\n",
       "        text-align: right;\n",
       "    }\n",
       "</style>\n",
       "<table border=\"1\" class=\"dataframe\">\n",
       "  <thead>\n",
       "    <tr style=\"text-align: right;\">\n",
       "      <th></th>\n",
       "      <th>Mean</th>\n",
       "      <th>Residual Variance</th>\n",
       "      <th>Variance</th>\n",
       "    </tr>\n",
       "  </thead>\n",
       "  <tbody>\n",
       "    <tr>\n",
       "      <th>h.1</th>\n",
       "      <td>0.015644</td>\n",
       "      <td>0.765881</td>\n",
       "      <td>0.765881</td>\n",
       "    </tr>\n",
       "    <tr>\n",
       "      <th>h.2</th>\n",
       "      <td>0.015644</td>\n",
       "      <td>0.777543</td>\n",
       "      <td>0.777543</td>\n",
       "    </tr>\n",
       "    <tr>\n",
       "      <th>h.3</th>\n",
       "      <td>0.015644</td>\n",
       "      <td>0.788884</td>\n",
       "      <td>0.788884</td>\n",
       "    </tr>\n",
       "    <tr>\n",
       "      <th>h.4</th>\n",
       "      <td>0.015644</td>\n",
       "      <td>0.799912</td>\n",
       "      <td>0.799912</td>\n",
       "    </tr>\n",
       "    <tr>\n",
       "      <th>h.5</th>\n",
       "      <td>0.015644</td>\n",
       "      <td>0.810636</td>\n",
       "      <td>0.810636</td>\n",
       "    </tr>\n",
       "  </tbody>\n",
       "</table>\n",
       "</div>"
      ],
      "text/plain": [
       "         Mean  Residual Variance  Variance\n",
       "h.1  0.015644           0.765881  0.765881\n",
       "h.2  0.015644           0.777543  0.777543\n",
       "h.3  0.015644           0.788884  0.788884\n",
       "h.4  0.015644           0.799912  0.799912\n",
       "h.5  0.015644           0.810636  0.810636"
      ]
     },
     "execution_count": 133,
     "metadata": {},
     "output_type": "execute_result"
    }
   ],
   "source": [
    "# Problem 1d.\n",
    "# Obtain 1-step to 5-step ahead forecasts for daily returns using the fitted models i part (b) ad (c).\n",
    "\n",
    "res = archm.forecast(horizon=5)\n",
    "res_mean = res.mean.iloc[-1,:]\n",
    "res_residual_variance = res.residual_variance.iloc[-1,:]\n",
    "res_variance = res.variance.iloc[-1,:]\n",
    "res_df = pd.DataFrame({'Mean': res_mean, 'Residual Variance': res_residual_variance, 'Variance': res_variance})\n",
    "\n",
    "res_df"
   ]
  },
  {
   "cell_type": "code",
   "execution_count": 132,
   "metadata": {},
   "outputs": [
    {
     "data": {
      "text/html": [
       "<div>\n",
       "<style scoped>\n",
       "    .dataframe tbody tr th:only-of-type {\n",
       "        vertical-align: middle;\n",
       "    }\n",
       "\n",
       "    .dataframe tbody tr th {\n",
       "        vertical-align: top;\n",
       "    }\n",
       "\n",
       "    .dataframe thead th {\n",
       "        text-align: right;\n",
       "    }\n",
       "</style>\n",
       "<table border=\"1\" class=\"dataframe\">\n",
       "  <thead>\n",
       "    <tr style=\"text-align: right;\">\n",
       "      <th></th>\n",
       "      <th>Mean</th>\n",
       "      <th>Residual Variance</th>\n",
       "      <th>Variance</th>\n",
       "    </tr>\n",
       "  </thead>\n",
       "  <tbody>\n",
       "    <tr>\n",
       "      <th>h.1</th>\n",
       "      <td>0.021644</td>\n",
       "      <td>0.683141</td>\n",
       "      <td>0.683141</td>\n",
       "    </tr>\n",
       "    <tr>\n",
       "      <th>h.2</th>\n",
       "      <td>0.021644</td>\n",
       "      <td>0.691316</td>\n",
       "      <td>0.691316</td>\n",
       "    </tr>\n",
       "    <tr>\n",
       "      <th>h.3</th>\n",
       "      <td>0.021644</td>\n",
       "      <td>0.699410</td>\n",
       "      <td>0.699410</td>\n",
       "    </tr>\n",
       "    <tr>\n",
       "      <th>h.4</th>\n",
       "      <td>0.021644</td>\n",
       "      <td>0.707424</td>\n",
       "      <td>0.707424</td>\n",
       "    </tr>\n",
       "    <tr>\n",
       "      <th>h.5</th>\n",
       "      <td>0.021644</td>\n",
       "      <td>0.715359</td>\n",
       "      <td>0.715359</td>\n",
       "    </tr>\n",
       "  </tbody>\n",
       "</table>\n",
       "</div>"
      ],
      "text/plain": [
       "         Mean  Residual Variance  Variance\n",
       "h.1  0.021644           0.683141  0.683141\n",
       "h.2  0.021644           0.691316  0.691316\n",
       "h.3  0.021644           0.699410  0.699410\n",
       "h.4  0.021644           0.707424  0.707424\n",
       "h.5  0.021644           0.715359  0.715359"
      ]
     },
     "execution_count": 132,
     "metadata": {},
     "output_type": "execute_result"
    }
   ],
   "source": [
    "res_t = archm_t.forecast(horizon=5)\n",
    "res_t_mean = res_t.mean.iloc[-1,:]\n",
    "res_t_residual_variance = res_t.residual_variance.iloc[-1,:]\n",
    "res_t_variance = res_t.variance.iloc[-1,:]\n",
    "res_t_df = pd.DataFrame({'Mean': res_t_mean, 'Residual Variance': res_t_residual_variance, 'Variance': res_t_variance})\n",
    "\n",
    "res_t_df"
   ]
  }
 ],
 "metadata": {
  "kernelspec": {
   "display_name": "Python 3.8.0 64-bit",
   "language": "python",
   "name": "python38064bit25f341e74c6441698a8cc0099765c1b1"
  },
  "language_info": {
   "codemirror_mode": {
    "name": "ipython",
    "version": 3
   },
   "file_extension": ".py",
   "mimetype": "text/x-python",
   "name": "python",
   "nbconvert_exporter": "python",
   "pygments_lexer": "ipython3",
   "version": "3.8.0"
  }
 },
 "nbformat": 4,
 "nbformat_minor": 4
}
